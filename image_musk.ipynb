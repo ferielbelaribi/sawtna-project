{
  "nbformat": 4,
  "nbformat_minor": 0,
  "metadata": {
    "colab": {
      "provenance": []
    },
    "kernelspec": {
      "name": "python3",
      "display_name": "Python 3"
    },
    "language_info": {
      "name": "python"
    }
  },
  "cells": [
    {
      "cell_type": "code",
      "source": [
        "import cv2\n",
        "import torch\n",
        "import numpy as np\n",
        "import matplotlib.pyplot as plt\n",
        "from segment_anything import sam_model_registry, SamAutomaticMaskGenerator\n",
        "\n",
        "\n",
        "sam_checkpoint = \"/content/sam_vit_b_01ec64.pth\"\n",
        "\n",
        "sam = sam_model_registry[\"vit_b\"](checkpoint=sam_checkpoint)\n",
        "sam.to(device=\"cuda\" if torch.cuda.is_available() else \"cpu\")\n",
        "\n",
        "mask_generator = SamAutomaticMaskGenerator(sam)\n",
        "\n",
        "\n",
        "def is_blood_region(image_rgb, mask, red_threshold=0.35):\n",
        "    region = image_rgb[mask.astype(bool)]\n",
        "    if region.size == 0:\n",
        "        return False\n",
        "    mean_color = np.mean(region, axis=0)  # [R,G,B]\n",
        "    red_ratio = mean_color[0] / (mean_color.sum() + 1e-6)\n",
        "    return red_ratio > red_threshold\n",
        "\n",
        "\n",
        "\n",
        "image_path = \"/content/photo_2025-08-29_02-29-21.jpg\"\n",
        "image = cv2.imread(image_path)\n",
        "image_rgb = cv2.cvtColor(image, cv2.COLOR_BGR2RGB)\n",
        "\n",
        "\n",
        "masks = mask_generator.generate(image_rgb)\n",
        "\n",
        "\n",
        "blood_masks = []\n",
        "for m in masks:\n",
        "    mask = m[\"segmentation\"]\n",
        "    if is_blood_region(image_rgb, mask):\n",
        "        blood_masks.append(mask)\n",
        "\n",
        "print(\"✅ عدد الماسكات المحتملة للدم:\", len(blood_masks))\n",
        "\n",
        "\n",
        "output = image.copy()\n",
        "for mask in blood_masks:\n",
        "    blurred = cv2.GaussianBlur(image, (51, 51), 0)\n",
        "    output[mask == 1] = blurred[mask == 1]\n",
        "\n",
        "\n",
        "plt.figure(figsize=(12,6))\n",
        "\n",
        "plt.subplot(1,2,1)\n",
        "plt.title(\"Before (Original)\")\n",
        "plt.imshow(image_rgb)\n",
        "\n",
        "plt.subplot(1,2,2)\n",
        "plt.title(\"After (Blurred Regions)\")\n",
        "plt.imshow(cv2.cvtColor(output, cv2.COLOR_BGR2RGB))\n",
        "\n",
        "plt.show()\n"
      ],
      "metadata": {
        "id": "cPt0UDdp752Y"
      },
      "execution_count": null,
      "outputs": []
    }
  ]
}